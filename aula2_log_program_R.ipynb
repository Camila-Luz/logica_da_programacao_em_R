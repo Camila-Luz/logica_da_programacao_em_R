{
  "nbformat": 4,
  "nbformat_minor": 0,
  "metadata": {
    "colab": {
      "provenance": [],
      "authorship_tag": "ABX9TyNkNrd0EbK8/ydqMAvfOGfB"
    },
    "kernelspec": {
      "name": "python3",
      "display_name": "Python 3"
    },
    "language_info": {
      "name": "python"
    }
  },
  "cells": [
    {
      "cell_type": "code",
      "execution_count": 2,
      "metadata": {
        "colab": {
          "base_uri": "https://localhost:8080/"
        },
        "id": "0g6C5nEXRGvM",
        "outputId": "ff78cfb7-37af-4b4a-8e2e-17956b7c76e5"
      },
      "outputs": [
        {
          "output_type": "stream",
          "name": "stdout",
          "text": [
            "digite a 1a nota7\n",
            "digite a 2a nota8\n",
            "a nota media foi igual a: 7.5\n"
          ]
        }
      ],
      "source": [
        "# calcular a média aritmética de 2 valores\n",
        "\n",
        "av1=float(input('digite a 1a nota'))\n",
        "av2=float(input('digite a 2a nota'))\n",
        "\n",
        "media=(av1+av2)/2\n",
        "\n",
        "print('a nota media foi igual a:',media)"
      ]
    },
    {
      "cell_type": "code",
      "source": [
        "# calcular IMC \n",
        "\n",
        "peso = float(input('Informe o seu peso em Kg:'))\n",
        "altura = float(input('Informe a sua altura em cm'))\n",
        "imc = peso/altura**2\n",
        "\n",
        "#round (variável,quantidade_de_decimais)\n",
        "imc=round(imc,1)\n",
        "\n",
        "print('O seu IMC é:',imc)"
      ],
      "metadata": {
        "colab": {
          "base_uri": "https://localhost:8080/"
        },
        "id": "tdi-in6XTWjV",
        "outputId": "09eaf8f3-f871-4a8b-e86f-9ca218d319ec"
      },
      "execution_count": 8,
      "outputs": [
        {
          "output_type": "stream",
          "name": "stdout",
          "text": [
            "Informe o seu peso em Kg:70\n",
            "Informe a sua altura em cm170\n",
            "O seu IMC é: 0.0\n"
          ]
        }
      ]
    },
    {
      "cell_type": "code",
      "source": [
        "# transformar uma temperatura de Fahrenheit para Celsius\n",
        "\n",
        "TF=float(input('Informe o valor da temperatura em graus Fahrenheit: '))\n",
        "\n",
        "TC=round( (5/9*(TF-32)) ,1)\n",
        "\n",
        "print('A temperatura em Celsius é:', TC)"
      ],
      "metadata": {
        "colab": {
          "base_uri": "https://localhost:8080/"
        },
        "id": "p-N6iDTBZ0ta",
        "outputId": "13fa23ec-0880-4868-c03b-298a394cc2be"
      },
      "execution_count": 12,
      "outputs": [
        {
          "output_type": "stream",
          "name": "stdout",
          "text": [
            "Informe o valor da temperatura em graus Fahrenheit: 100\n",
            "A temperatura em Celsius é: 37.8\n"
          ]
        }
      ]
    },
    {
      "cell_type": "code",
      "source": [
        "# ler as dimensões de um retângulo (base e altura), calcular e escrever a área e perímetro\n",
        "\n",
        "base = float(input(\"Informe a base do retangulo: \"))\n",
        "altura = float(input(\"Informe a altura do retangulo: \"))\n",
        "\n",
        "area = base * altura\n",
        "perimetro = base*2 + altura*2\n",
        "\n",
        "print(\"Area = \" , area)\n",
        "print(\"Perimetro = \", perimetro)"
      ],
      "metadata": {
        "colab": {
          "base_uri": "https://localhost:8080/"
        },
        "id": "50irV3gma3lv",
        "outputId": "07f50850-7434-4f95-d6e3-c39644eb8822"
      },
      "execution_count": 15,
      "outputs": [
        {
          "output_type": "stream",
          "name": "stdout",
          "text": [
            "Informe a base do retangulo: 7\n",
            "Informe a altura do retangulo: 3\n",
            "Area =  21.0\n",
            "Perimetro =  20.0\n"
          ]
        }
      ]
    },
    {
      "cell_type": "code",
      "source": [],
      "metadata": {
        "id": "hH7ZrrItduVo"
      },
      "execution_count": null,
      "outputs": []
    }
  ]
}